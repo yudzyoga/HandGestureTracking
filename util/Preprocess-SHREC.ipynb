{
 "cells": [
  {
   "cell_type": "code",
   "execution_count": 19,
   "id": "indonesian-prediction",
   "metadata": {},
   "outputs": [],
   "source": [
    "import numpy as np\n",
    "import pandas as pd\n",
    "import os\n",
    "\n",
    "dataset_fold = \"./../dataset/\""
   ]
  },
  {
   "cell_type": "code",
   "execution_count": 108,
   "id": "optional-actress",
   "metadata": {},
   "outputs": [],
   "source": [
    "def get_skeleton(path_to_csv):\n",
    "    \"\"\"\n",
    "    This function will return all joints data from skeleton.csv\n",
    "    Output type: list of array -> len(output) == isincluded frame\n",
    "    Each array will have (21, 3) of shape\n",
    "    \"\"\"\n",
    "    # read csv file\n",
    "    df = pd.read_csv(path_to_csv)\n",
    "    \n",
    "    # exclude isincluded == 0\n",
    "    df = df[df.isincluded==1]\n",
    "    \n",
    "    # iniialize variables\n",
    "    all_data = []\n",
    "    joints = []\n",
    "    last_filename = df.iloc[0].filename\n",
    "    \n",
    "    # get all joints from file\n",
    "    for index, row in df.iterrows():\n",
    "        if row.filename != last_filename:\n",
    "            all_data.append(np.array(joints))\n",
    "            joints = []\n",
    "            last_filename = row.filename\n",
    "        _joint = np.array([row.x, row.y, row.z])\n",
    "        joints.append(_joint)\n",
    "    all_data.append(np.array(joints))\n",
    "    \n",
    "    return all_data"
   ]
  },
  {
   "cell_type": "code",
   "execution_count": 112,
   "id": "secure-purpose",
   "metadata": {},
   "outputs": [],
   "source": [
    "def parse_file(dataset_path):\n",
    "    \"\"\"\n",
    "    This function will iterate all dataset to get the formatted data\n",
    "    Output: list of dict\n",
    "    dict = {'label': integer,\n",
    "            'skeleton': get_skeleton(path_to_csv)} \n",
    "    \"\"\"\n",
    "    train_data = []\n",
    "    test_data = []\n",
    "\n",
    "    gestures = sorted([folder for folder in os.listdir(dataset_fold) if 'gesture' in folder])\n",
    "    for gesture in gestures:\n",
    "        label = gesture.split('_')[-1]\n",
    "        videos = ['/' + data + '/' for data in os.listdir(dataset_fold + gesture)]\n",
    "        random.shuffle(videos)\n",
    "        test_marks = videos[:2]\n",
    "        for video in videos:\n",
    "            _dict = {}\n",
    "            skeleton_path = dataset_fold + gesture + video + 'skeleton.csv'\n",
    "            if os.path.exists(skeleton_path):\n",
    "                _dict['label'] = label\n",
    "                _dict['skeleton'] = get_skeleton(skeleton_path)\n",
    "                if video in test_marks:\n",
    "                    test_data.append(_dict)\n",
    "                else:\n",
    "                    train_data.append(_dict)\n",
    "            else:\n",
    "                print(\"Can't find {}\".format(skeleton_path))\n",
    "                pass\n",
    "\n",
    "    return train_data, test_data"
   ]
  },
  {
   "cell_type": "code",
   "execution_count": 113,
   "id": "floppy-target",
   "metadata": {},
   "outputs": [],
   "source": [
    "train, test = parse_file(dataset_fold)"
   ]
  },
  {
   "cell_type": "code",
   "execution_count": 114,
   "id": "searching-engagement",
   "metadata": {},
   "outputs": [
    {
     "data": {
      "text/plain": [
       "12"
      ]
     },
     "execution_count": 114,
     "metadata": {},
     "output_type": "execute_result"
    }
   ],
   "source": [
    "len(test)"
   ]
  },
  {
   "cell_type": "code",
   "execution_count": 115,
   "id": "friendly-reynolds",
   "metadata": {},
   "outputs": [
    {
     "data": {
      "text/plain": [
       "98"
      ]
     },
     "execution_count": 115,
     "metadata": {},
     "output_type": "execute_result"
    }
   ],
   "source": [
    "len(test[1]['skeleton'])"
   ]
  },
  {
   "cell_type": "code",
   "execution_count": 117,
   "id": "hazardous-phase",
   "metadata": {},
   "outputs": [],
   "source": [
    "output = train.copy()\n",
    "output.extend(test)\n",
    "len_frame = []\n",
    "for temp in output:\n",
    "    len_frame.append(len(temp['skeleton']))"
   ]
  },
  {
   "cell_type": "code",
   "execution_count": 124,
   "id": "restricted-delight",
   "metadata": {},
   "outputs": [
    {
     "data": {
      "text/plain": [
       "58.0"
      ]
     },
     "execution_count": 124,
     "metadata": {},
     "output_type": "execute_result"
    }
   ],
   "source": [
    "np.median(len_frame)"
   ]
  },
  {
   "cell_type": "code",
   "execution_count": null,
   "id": "informative-secondary",
   "metadata": {},
   "outputs": [],
   "source": []
  }
 ],
 "metadata": {
  "kernelspec": {
   "display_name": "Python 3",
   "language": "python",
   "name": "python3"
  },
  "language_info": {
   "codemirror_mode": {
    "name": "ipython",
    "version": 3
   },
   "file_extension": ".py",
   "mimetype": "text/x-python",
   "name": "python",
   "nbconvert_exporter": "python",
   "pygments_lexer": "ipython3",
   "version": "3.8.8"
  }
 },
 "nbformat": 4,
 "nbformat_minor": 5
}
